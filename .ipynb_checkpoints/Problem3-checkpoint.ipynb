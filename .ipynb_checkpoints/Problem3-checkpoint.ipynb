{
 "cells": [
  {
   "cell_type": "markdown",
   "metadata": {},
   "source": [
    "# Problem 3: Largest prime factor\n",
    "\n",
    "The prime factors of 13195 are 5, 7, 13 and 29.\n",
    "\n",
    "What is the largest prime factor of the number 600851475143 ?"
   ]
  },
  {
   "cell_type": "markdown",
   "metadata": {},
   "source": [
    "### First attempt:\n",
    "- Take the number (in this case 600851475143) and divide it by two\n",
    "- Search for the lowest prime by wich the number is evenly dividable\n",
    "- The new number ist the old number divided by the prime\n",
    "- Go on till the number hit 0\n",
    "- Remember the prime and overrite it if the new prime is higher"
   ]
  },
  {
   "cell_type": "code",
   "execution_count": 1,
   "metadata": {},
   "outputs": [],
   "source": [
    "def gen_prime_num(start_num, end_num):\n",
    "    prime = False\n",
    "    for i in range(start_num,int(end_num/2)):\n",
    "        prime = False\n",
    "        for j in range(2,i):\n",
    "            if i%j == 0:\n",
    "                prime = True\n",
    "                break\n",
    "        if not prime:\n",
    "            yield i"
   ]
  },
  {
   "cell_type": "code",
   "execution_count": 6,
   "metadata": {},
   "outputs": [
    {
     "name": "stdout",
     "output_type": "stream",
     "text": [
      "3\n"
     ]
    }
   ],
   "source": [
    "#end_num = 600851475143\n",
    "end_num = 13195\n",
    "end_num = 63787\n",
    "start_num = 1\n",
    "highest_prime = 0\n",
    "for prime in gen_prime_num(start_num, end_num):\n",
    "    if(end_num%prime == 0):\n",
    "        end_num = end_num/prime\n",
    "        start_num = prime-1\n",
    "        if prime > highest_prime:\n",
    "            highest_prime = prime\n",
    "print(highest_prime)"
   ]
  },
  {
   "cell_type": "markdown",
   "metadata": {},
   "source": [
    "### Conclusion:\n",
    "Works for small numbers, but cannot solve big number"
   ]
  },
  {
   "cell_type": "markdown",
   "metadata": {},
   "source": [
    "### Second attempt:\n",
    "Tying to implement the Algorithm [Quadratic sieve](https://en.wikipedia.org/wiki/Quadratic_sieve)\n"
   ]
  },
  {
   "cell_type": "code",
   "execution_count": null,
   "metadata": {},
   "outputs": [],
   "source": []
  }
 ],
 "metadata": {
  "kernelspec": {
   "display_name": "Python 3",
   "language": "python",
   "name": "python3"
  },
  "language_info": {
   "codemirror_mode": {
    "name": "ipython",
    "version": 3
   },
   "file_extension": ".py",
   "mimetype": "text/x-python",
   "name": "python",
   "nbconvert_exporter": "python",
   "pygments_lexer": "ipython3",
   "version": "3.7.3"
  }
 },
 "nbformat": 4,
 "nbformat_minor": 2
}
