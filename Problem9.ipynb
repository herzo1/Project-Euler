{
 "cells": [
  {
   "cell_type": "markdown",
   "metadata": {},
   "source": [
    "# Problem 9: Special Pythagorean triplet\n",
    "\n",
    "\n",
    "A Pythagorean triplet is a set of three natural numbers, a < b < c, for which,\n",
    "\n",
    "a^2 + b^2 = c^2\n",
    "\n",
    "For example, 3^2 + 4^2 = 9 + 16 = 25 = 5^2.\n",
    "\n",
    "There exists exactly one Pythagorean triplet for which a + b + c = 1000.\n",
    "Find the product abc.\n"
   ]
  },
  {
   "cell_type": "code",
   "execution_count": 18,
   "metadata": {},
   "outputs": [
    {
     "name": "stdout",
     "output_type": "stream",
     "text": [
      "a = 200, b = 375, c = 425 \n",
      "lead to the solution: 31875000\n"
     ]
    }
   ],
   "source": [
    "# 1: a**2 + b**2 == c**2\n",
    "# 2: a < b < c\n",
    "# 3: a + b + c = 1000\n",
    "\n",
    "# Using the Euclid's Formula to find the solution\n",
    "# More infos:\n",
    "# https://lucidmanager.org/euler-problem-9/\n",
    "\n",
    "import math\n",
    "\n",
    "sum_of_abc = 1000\n",
    "\n",
    "x = sum_of_abc / 2\n",
    "val_min = math.floor((x/2)**0.5)\n",
    "val_max = math.ceil(x**0.5)\n",
    "\n",
    "for val in range(val_min, val_max):\n",
    "    if x%val == 0:\n",
    "        m = val\n",
    "\n",
    "n = int((x / m) - m)\n",
    "\n",
    "a = 2 * m * n\n",
    "b = m**2 - n**2\n",
    "c = m**2 + n**2\n",
    "\n",
    "sol = a*b*c\n",
    "\n",
    "print(f'a = {a}, b = {b}, c = {c} \\nlead to the solution: {sol}')\n"
   ]
  },
  {
   "cell_type": "code",
   "execution_count": null,
   "metadata": {},
   "outputs": [],
   "source": []
  },
  {
   "cell_type": "code",
   "execution_count": null,
   "metadata": {},
   "outputs": [],
   "source": []
  },
  {
   "cell_type": "code",
   "execution_count": null,
   "metadata": {},
   "outputs": [],
   "source": []
  }
 ],
 "metadata": {
  "kernelspec": {
   "display_name": "Python 3",
   "language": "python",
   "name": "python3"
  },
  "language_info": {
   "codemirror_mode": {
    "name": "ipython",
    "version": 3
   },
   "file_extension": ".py",
   "mimetype": "text/x-python",
   "name": "python",
   "nbconvert_exporter": "python",
   "pygments_lexer": "ipython3",
   "version": "3.7.3"
  }
 },
 "nbformat": 4,
 "nbformat_minor": 2
}
