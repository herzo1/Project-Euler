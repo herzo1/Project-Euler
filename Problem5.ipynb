{
 "cells": [
  {
   "cell_type": "markdown",
   "metadata": {},
   "source": [
    "# Problem 5: Smallest multiple\n",
    "\n",
    "2520 is the smallest number that can be divided by each of the numbers from 1 to 10 without any remainder.\n",
    "\n",
    "What is the smallest positive number that is evenly divisible by all of the numbers from 1 to 20?"
   ]
  },
  {
   "cell_type": "code",
   "execution_count": 1,
   "metadata": {},
   "outputs": [],
   "source": [
    "def multiples_in_list(insert_list):\n",
    "    temp = []\n",
    "    for i in range(0, len(insert_list)):\n",
    "        for j in insert_list:\n",
    "            if insert_list[i] != j and j%insert_list[i] == 0:\n",
    "                temp.append(insert_list[i])\n",
    "    ret_set = set(temp)\n",
    "    for delnum in ret_set:\n",
    "        insert_list.remove(delnum)\n",
    "    return insert_list\n",
    "        \n",
    "def create_ess_numbers(st_num, end_num):\n",
    "    ret_list = list(range(st_num, end_num+1))\n",
    "    ret_list = multiples_in_list(ret_list)\n",
    "    return ret_list"
   ]
  },
  {
   "cell_type": "code",
   "execution_count": 2,
   "metadata": {},
   "outputs": [
    {
     "name": "stdout",
     "output_type": "stream",
     "text": [
      "The smalles positive number is 232792560.\n",
      "Wall time: 2.33 s\n"
     ]
    }
   ],
   "source": [
    "%%time\n",
    "solution = False\n",
    "div_list = create_ess_numbers(1,20)\n",
    "incrementor = max(div_list)\n",
    "bCheck = False\n",
    "small_pos_num = 11*13*17*19*15\n",
    "while not bCheck:\n",
    "    small_pos_num += 1\n",
    "    if small_pos_num%20 == 0:\n",
    "        bCheck = True\n",
    "while not solution:\n",
    "    solution = True\n",
    "    small_pos_num += incrementor\n",
    "    if small_pos_num%11 != 0:\n",
    "        solution = False\n",
    "        continue\n",
    "    for div in div_list:\n",
    "        if small_pos_num%div != 0:\n",
    "            solution = False\n",
    "            break\n",
    "print(f\"The smalles positive number is {small_pos_num}.\")"
   ]
  },
  {
   "cell_type": "code",
   "execution_count": 4,
   "metadata": {},
   "outputs": [
    {
     "name": "stdout",
     "output_type": "stream",
     "text": [
      "16983563041\n",
      "Wall time: 998 µs\n"
     ]
    }
   ],
   "source": [
    "%%time\n",
    "from itertools import count, takewhile\n",
    "\n",
    "# Prime generator\n",
    "def primes(n):\n",
    "    seen = []\n",
    "    for i in range(2, n + 1):\n",
    "        if all(map(lambda prime: i % prime, seen)):\n",
    "            seen.append(i)\n",
    "            yield i\n",
    "\n",
    "n = 20\n",
    "result = 1\n",
    "for prime in primes(n):\n",
    "    bprime = max(takewhile(lambda x:x<=n, (prime ** c for c in count(1))))\n",
    "    result *= bprime\n",
    "\n",
    "print(result)"
   ]
  },
  {
   "cell_type": "code",
   "execution_count": null,
   "metadata": {},
   "outputs": [],
   "source": []
  },
  {
   "cell_type": "code",
   "execution_count": null,
   "metadata": {},
   "outputs": [],
   "source": []
  }
 ],
 "metadata": {
  "kernelspec": {
   "display_name": "Python 3",
   "language": "python",
   "name": "python3"
  },
  "language_info": {
   "codemirror_mode": {
    "name": "ipython",
    "version": 3
   },
   "file_extension": ".py",
   "mimetype": "text/x-python",
   "name": "python",
   "nbconvert_exporter": "python",
   "pygments_lexer": "ipython3",
   "version": "3.7.3"
  }
 },
 "nbformat": 4,
 "nbformat_minor": 2
}
