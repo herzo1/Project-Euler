{
 "cells": [
  {
   "cell_type": "markdown",
   "metadata": {},
   "source": [
    "# Problem 7: 10001st prime\n",
    "\n",
    "By listing the first six prime numbers: 2, 3, 5, 7, 11, and 13, we can see that the 6th prime is 13.\n",
    "\n",
    "What is the 10 001st prime number?"
   ]
  },
  {
   "cell_type": "code",
   "execution_count": 7,
   "metadata": {},
   "outputs": [],
   "source": [
    "def gen_prime_num(number_of_primes):\n",
    "    bPrime = True\n",
    "    i = 0\n",
    "    num = 0\n",
    "    while num < number_of_primes:\n",
    "        i += 1\n",
    "        if (i<=1):\n",
    "            continue\n",
    "        bPrime = True\n",
    "        for j in range(3,i,2):\n",
    "            if i%j == 0:\n",
    "                bPrime = False\n",
    "                break\n",
    "        if (not (i%2==0)or i==2) and bPrime:\n",
    "            yield i\n",
    "            num += 1"
   ]
  },
  {
   "cell_type": "code",
   "execution_count": 9,
   "metadata": {},
   "outputs": [
    {
     "name": "stdout",
     "output_type": "stream",
     "text": [
      "104743\n"
     ]
    }
   ],
   "source": [
    "nth = 10001\n",
    "nth_prime = 2\n",
    "for prime in gen_prime_num(nth):\n",
    "    nth_prime = prime\n",
    "print(f\"Answer: {nth_prime}\")"
   ]
  },
  {
   "cell_type": "code",
   "execution_count": null,
   "metadata": {},
   "outputs": [],
   "source": []
  }
 ],
 "metadata": {
  "kernelspec": {
   "display_name": "Python 3",
   "language": "python",
   "name": "python3"
  },
  "language_info": {
   "codemirror_mode": {
    "name": "ipython",
    "version": 3
   },
   "file_extension": ".py",
   "mimetype": "text/x-python",
   "name": "python",
   "nbconvert_exporter": "python",
   "pygments_lexer": "ipython3",
   "version": "3.7.3"
  }
 },
 "nbformat": 4,
 "nbformat_minor": 2
}
