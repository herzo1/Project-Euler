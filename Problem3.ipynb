{
 "cells": [
  {
   "cell_type": "markdown",
   "metadata": {},
   "source": [
    "# Problem 3: Largest prime factor\n",
    "\n",
    "The prime factors of 13195 are 5, 7, 13 and 29.\n",
    "\n",
    "What is the largest prime factor of the number 600851475143 ?"
   ]
  },
  {
   "cell_type": "markdown",
   "metadata": {},
   "source": [
    "### First attempt:\n",
    "**Prime generator: gen_prime_num():**\n",
    "- Returns prime numbers between *start_num* and *end_num* starting with the lowerst prime\n",
    "- \"1\" and \"0\" are not prime numbers\n",
    "\n",
    "**Main check for prime factors: while end_num > 1:**\n",
    "- Search for prime factors between \"2\" and the number/2 (in this case  600851475143/2)\n",
    "- if you find a prime factor of the number, than do the following\n",
    "    - search now for primes between \"prime factor\" and \"number/prime factor\"\n",
    "    - if the resent prime factor is larger than the the up to now largest prime factor, than set the resent prime as largest prime\n",
    "- Do this till your \"end_num\" is equal to 1"
   ]
  },
  {
   "cell_type": "code",
   "execution_count": 16,
   "metadata": {},
   "outputs": [],
   "source": [
    "def gen_prime_num(start_num, end_num):\n",
    "    bPrime = True\n",
    "    for i in range(start_num,end_num):\n",
    "        if (i<=1):\n",
    "            continue\n",
    "        bPrime = True\n",
    "        for j in range(3,i,2):\n",
    "            if i%j == 0:\n",
    "                bPrime = False\n",
    "                break\n",
    "        if (not (i%2==0)or i==2) and bPrime:\n",
    "            yield i"
   ]
  },
  {
   "cell_type": "code",
   "execution_count": 17,
   "metadata": {},
   "outputs": [
    {
     "name": "stdout",
     "output_type": "stream",
     "text": [
      "The largest prime factor for 600851475143 is 6857!\n"
     ]
    }
   ],
   "source": [
    "solve_num = 600851475143\n",
    "end_num = solve_num\n",
    "highest_prime = 0\n",
    "start_num = 1\n",
    "while end_num > 1:\n",
    "    for prime in gen_prime_num(start_num, int(end_num/2)):\n",
    "        if(end_num%prime == 0):\n",
    "            end_num = int(end_num/prime)\n",
    "            start_num = prime\n",
    "            if prime > highest_prime:\n",
    "                highest_prime = prime\n",
    "        if end_num <= 1:\n",
    "            break\n",
    "print(f\"The largest prime factor for {solve_num} is {highest_prime}!\")"
   ]
  },
  {
   "cell_type": "code",
   "execution_count": null,
   "metadata": {},
   "outputs": [],
   "source": []
  },
  {
   "cell_type": "code",
   "execution_count": null,
   "metadata": {},
   "outputs": [],
   "source": []
  },
  {
   "cell_type": "code",
   "execution_count": null,
   "metadata": {},
   "outputs": [],
   "source": []
  },
  {
   "cell_type": "code",
   "execution_count": null,
   "metadata": {},
   "outputs": [],
   "source": []
  },
  {
   "cell_type": "code",
   "execution_count": null,
   "metadata": {},
   "outputs": [],
   "source": []
  },
  {
   "cell_type": "code",
   "execution_count": null,
   "metadata": {},
   "outputs": [],
   "source": []
  }
 ],
 "metadata": {
  "kernelspec": {
   "display_name": "Python 3",
   "language": "python",
   "name": "python3"
  },
  "language_info": {
   "codemirror_mode": {
    "name": "ipython",
    "version": 3
   },
   "file_extension": ".py",
   "mimetype": "text/x-python",
   "name": "python",
   "nbconvert_exporter": "python",
   "pygments_lexer": "ipython3",
   "version": "3.7.3"
  }
 },
 "nbformat": 4,
 "nbformat_minor": 2
}
