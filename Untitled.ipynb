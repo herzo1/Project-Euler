{
 "cells": [
  {
   "cell_type": "markdown",
   "metadata": {},
   "source": [
    "# Problem 9: Special Pythagorean triplet\n",
    "\n",
    "\n",
    "A Pythagorean triplet is a set of three natural numbers, a < b < c, for which,\n",
    "\n",
    "a2 + b2 = c2\n",
    "\n",
    "For example, 32 + 42 = 9 + 16 = 25 = 52.\n",
    "\n",
    "There exists exactly one Pythagorean triplet for which a + b + c = 1000.\n",
    "Find the product abc.\n"
   ]
  },
  {
   "cell_type": "code",
   "execution_count": null,
   "metadata": {},
   "outputs": [],
   "source": [
    "def check_a2_p_b2_g_c2(a,b,c):\n",
    "    if (a**2 + b**2) == c**2:\n",
    "        return True\n",
    "    else:\n",
    "        return False\n",
    "\n",
    "sol_fund = False\n",
    "\n",
    "while not sol_fund:\n",
    "    for a in range(1, 1000):\n",
    "        for b in range(2, 1000):\n",
    "            for c in range(3, 1000):\n",
    "                if (a+b+c)==1000 and check_a2_p_b2_g_c2(a,b,c):\n",
    "                    sol_a = a\n",
    "                    sol_b = b\n",
    "                    sol_c = c\n",
    "\n",
    "solution = a*b*c\n",
    "print(solution)"
   ]
  },
  {
   "cell_type": "code",
   "execution_count": null,
   "metadata": {},
   "outputs": [],
   "source": []
  }
 ],
 "metadata": {
  "kernelspec": {
   "display_name": "Python 3",
   "language": "python",
   "name": "python3"
  },
  "language_info": {
   "codemirror_mode": {
    "name": "ipython",
    "version": 3
   },
   "file_extension": ".py",
   "mimetype": "text/x-python",
   "name": "python",
   "nbconvert_exporter": "python",
   "pygments_lexer": "ipython3",
   "version": "3.7.3"
  }
 },
 "nbformat": 4,
 "nbformat_minor": 2
}
